{
 "cells": [
  {
   "cell_type": "code",
   "execution_count": 1,
   "id": "d2d3f515-b74a-4d6e-9ee8-6b5e5c792041",
   "metadata": {},
   "outputs": [
    {
     "name": "stdout",
     "output_type": "stream",
     "text": [
      "Hello ENGO  645 students!\n"
     ]
    }
   ],
   "source": [
    "print(\"Hello ENGO  645 students!\")\n"
   ]
  },
  {
   "cell_type": "code",
   "execution_count": null,
   "id": "fcab0294-2a41-46a3-8b8c-21d7fa87eb7e",
   "metadata": {},
   "outputs": [],
   "source": []
  }
 ],
 "metadata": {
  "kernelspec": {
   "display_name": "Python 3 (ipykernel)",
   "language": "python",
   "name": "python3"
  },
  "language_info": {
   "codemirror_mode": {
    "name": "ipython",
    "version": 3
   },
   "file_extension": ".py",
   "mimetype": "text/x-python",
   "name": "python",
   "nbconvert_exporter": "python",
   "pygments_lexer": "ipython3",
   "version": "3.11.5"
  }
 },
 "nbformat": 4,
 "nbformat_minor": 5
}
